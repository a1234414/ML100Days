{
 "cells": [
  {
   "cell_type": "markdown",
   "metadata": {
    "id": "H-z4L8J371GO"
   },
   "source": [
    "## 作業:\n",
    "今天學到不同統計量之間特性，  \n",
    "試著分析男生女生身高資料，  \n",
    "試著回答下面的問題:  \n",
    "Q1:試著用今天所教的內容，如何描述這兩組資料的樣態?    \n",
    "Q2: 請問男生和女生在平均身高上誰比較高?   \n",
    "Q3:請問第二題的答案和日常生活中觀察的一致嗎? 如果不一致，你覺得原因可能為何?    \n",
    "上述問題透過  python 語法進行運算，\n",
    "並將上述答案填寫在 (google 表單)[https://docs.google.com/forms/d/e/1FAIpQLSdDzwpeJl8YLPwZaW8pBZvtuXY9kIbbZLqxcXyzFaoraV5JEA/viewform ]\n",
    "![](作業資料圖檔.PNG)"
   ]
  },
  {
   "cell_type": "code",
   "execution_count": 1,
   "metadata": {
    "id": "yz28_IgkYdBW"
   },
   "outputs": [],
   "source": [
    "# library\n",
    "import matplotlib.pyplot as plt\n",
    "import numpy as np\n",
    "import pandas as pd\n",
    "from scipy import stats\n",
    "import math\n",
    "import statistics\n",
    "import seaborn as sns"
   ]
  },
  {
   "cell_type": "code",
   "execution_count": 3,
   "metadata": {
    "id": "3NtzuWtt71GU",
    "outputId": "be21c4eb-a6c2-4674-aadd-d378bafc0428"
   },
   "outputs": [],
   "source": [
    "## 輸入資料\n",
    "\n",
    "male = pd.Series([164, 175, 183, 173, 176, 159, 165, 165, 169, 151, 156, 163, 169, 144, 170, 177, 165, 160, 164, 171])\n",
    "female = pd.Series([169, 170, 162, 154, 183, 173, 169, 167, 170, 185, 162, 175, 168, 151, 181, 170, 182, 156, 159, 160])"
   ]
  },
  {
   "cell_type": "code",
   "execution_count": 11,
   "metadata": {
    "id": "uDM9AzrY71GW",
    "outputId": "f4e7ede3-fda9-4858-f122-af7c3b3f3ad4"
   },
   "outputs": [
    {
     "name": "stdout",
     "output_type": "stream",
     "text": [
      "平均\n",
      "男： 165.95 女： 168.3\n",
      "--\n",
      "中位數\n",
      "男： 165.0 女： 169.0\n",
      "--\n",
      "標準差\n",
      "男： 9.21369118557584 女： 9.766214587465353\n",
      "--\n",
      "偏度\n",
      "男： -0.5104301688842507 女： 0.06481966015062346\n",
      "--\n",
      "峰度\n",
      "男： 0.6254561209213279 女： -0.6971370021227545\n"
     ]
    }
   ],
   "source": [
    "#Q1:試著用今天所教的內容，如何描述這兩組資料的樣態?\n",
    "#暗示:  分別計算男生和女生的統計量\n",
    "\n",
    "print('平均')\n",
    "print('男：', male.mean(), '女：', female.mean())\n",
    "print('--')\n",
    "print('中位數')\n",
    "print('男：', male.median(), '女：', female.median())\n",
    "print('--')\n",
    "print('標準差')\n",
    "print('男：', male.std(), '女：', female.std())\n",
    "print('--')\n",
    "print('偏度')\n",
    "print('男：', male.skew(), '女：', female.skew())\n",
    "print('--')\n",
    "print('峰度')\n",
    "print('男：', male.kurtosis(), '女：', female.kurtosis())"
   ]
  },
  {
   "cell_type": "code",
   "execution_count": null,
   "metadata": {
    "id": "xH_GNsC271GW",
    "outputId": "f4b4c46a-0d8b-421c-9c70-0ebf2aab0e31"
   },
   "outputs": [
    {
     "data": {
      "text/plain": [
       "'\\n你的答案\\n'"
      ]
     },
     "execution_count": 4,
     "metadata": {
      "tags": []
     },
     "output_type": "execute_result"
    }
   ],
   "source": [
    "#Q2: 請問男生和女生在平均身高上誰比較高? \n",
    "\n",
    "#女生"
   ]
  },
  {
   "cell_type": "code",
   "execution_count": null,
   "metadata": {
    "id": "xAzZU0Dv71GX",
    "outputId": "e2017c09-70fc-41ab-99c0-9d41fe21629d"
   },
   "outputs": [
    {
     "data": {
      "text/plain": [
       "'\\n你的答案\\n'"
      ]
     },
     "execution_count": 5,
     "metadata": {
      "tags": []
     },
     "output_type": "execute_result"
    }
   ],
   "source": [
    "#Q3:請問第二題的答案和日常生活中觀察的一致嗎? 如果不一致，你覺得原因可能為何? \n",
    "\n",
    "# 不一致，想到的可能原因有：\n",
    "# 1. 取樣對象不同，ex. 國中男生 & 職籃女生\n",
    "# 2. 紀錄資料時有發生錯誤"
   ]
  }
 ],
 "metadata": {
  "colab": {
   "collapsed_sections": [],
   "name": "作業.ipynb",
   "provenance": []
  },
  "kernelspec": {
   "display_name": "Python 3",
   "language": "python",
   "name": "python3"
  },
  "language_info": {
   "codemirror_mode": {
    "name": "ipython",
    "version": 3
   },
   "file_extension": ".py",
   "mimetype": "text/x-python",
   "name": "python",
   "nbconvert_exporter": "python",
   "pygments_lexer": "ipython3",
   "version": "3.8.5"
  }
 },
 "nbformat": 4,
 "nbformat_minor": 1
}
