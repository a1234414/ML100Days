{
 "cells": [
  {
   "cell_type": "markdown",
   "metadata": {
    "id": "P6xk2_jLsvFF"
   },
   "source": [
    "# [作業目標]\n",
    "\n",
    "1. [簡答題] 請問下列這三種方法有什麼不同？\n",
    "\n",
    "```\n",
    "print(a.sum()) \n",
    "print(np.sum(a))\n",
    "print(sum(a)) \n",
    "```\n",
    "\n",
    "2. 請對一個 5x5 的隨機矩陣作正規化的操作。\n",
    "\n",
    "3. 請建立一個長度等於 10 的正整數向量，並且將其中的最大值改成 -1。\n"
   ]
  },
  {
   "cell_type": "markdown",
   "metadata": {
    "id": "uXGll28asvFS"
   },
   "source": [
    "# 作業 "
   ]
  },
  {
   "cell_type": "markdown",
   "metadata": {
    "id": "lbz8VjL6jxyL"
   },
   "source": [
    "### 1. [簡答題] 請問下列這三種方法有什麼不同？\n",
    "\n",
    "```\n",
    "print(a.sum()) \n",
    "print(np.sum(a))\n",
    "print(sum(a)) \n",
    "```\n",
    "\n"
   ]
  },
  {
   "cell_type": "code",
   "execution_count": null,
   "metadata": {
    "id": "5QrYoyNWsvFS",
    "outputId": "e9e14d36-38ce-4ce5-edf2-3c7b129db580"
   },
   "outputs": [
    {
     "data": {
      "text/plain": [
       "'\\nYour Code\\n'"
      ]
     },
     "execution_count": 3,
     "metadata": {
      "tags": []
     },
     "output_type": "execute_result"
    }
   ],
   "source": [
    "#a.sum()是numpy的陣列底下的函式；np.sum(a)則是numpy底下的函式\n",
    "#sum(a) 則是 python的函式，在np以外的地方也可以使用"
   ]
  },
  {
   "cell_type": "markdown",
   "metadata": {
    "id": "vVrjBXabjxyS"
   },
   "source": [
    "### 2. 請對一個 5x5 的隨機矩陣作正規化的操作。\n"
   ]
  },
  {
   "cell_type": "code",
   "execution_count": 1,
   "metadata": {
    "id": "ffDRVHs9jxyS"
   },
   "outputs": [],
   "source": [
    "# 記得先 Import 正確的套件\n",
    "\n",
    "import numpy as np"
   ]
  },
  {
   "cell_type": "code",
   "execution_count": 2,
   "metadata": {
    "id": "e1gVI0tvsvFY",
    "outputId": "43bf676f-fd04-4edf-c062-b5fe7fe1f4bf"
   },
   "outputs": [
    {
     "data": {
      "text/plain": [
       "'\\nYour Code\\n'"
      ]
     },
     "execution_count": 2,
     "metadata": {},
     "output_type": "execute_result"
    }
   ],
   "source": [
    "A = np.random.random((5, 5))\n",
    "\n",
    "'''\n",
    "Your Code\n",
    "'''"
   ]
  },
  {
   "cell_type": "code",
   "execution_count": 7,
   "metadata": {},
   "outputs": [
    {
     "name": "stdout",
     "output_type": "stream",
     "text": [
      "[[0.8802826  0.84508809 0.99471708 0.81226862 0.34198125]\n",
      " [0.31025741 0.99748811 0.11968921 0.62269714 0.29326581]\n",
      " [0.13705521 0.0631651  0.38192782 0.45086138 0.94773516]\n",
      " [0.32414761 0.96057922 0.44911454 0.43660074 0.76921043]\n",
      " [0.4830934  0.70572395 0.18214455 0.40061941 0.84020162]]\n"
     ]
    },
    {
     "data": {
      "text/plain": [
       "array([[0.87455569, 0.83688722, 0.99703418, 0.80176075, 0.29841516],\n",
       "       [0.26446133, 1.        , 0.0604974 , 0.59886359, 0.24627533],\n",
       "       [0.07908412, 0.        , 0.34116972, 0.41494888, 0.94674973],\n",
       "       [0.27932792, 0.96049665, 0.41307924, 0.3996858 , 0.75567584],\n",
       "       [0.44944661, 0.68772666, 0.12734295, 0.36117521, 0.83165727]])"
      ]
     },
     "execution_count": 7,
     "metadata": {},
     "output_type": "execute_result"
    }
   ],
   "source": [
    "print(A)\n",
    "\n",
    "A = (A - A.min()) / (A.max() - A.min())\n",
    "A"
   ]
  },
  {
   "cell_type": "markdown",
   "metadata": {
    "id": "Ptc3ZrNQjxyU"
   },
   "source": [
    "### 3. 請建立一個長度等於 10 的正整數向量，並且將其中的最大值改成 -1。\n"
   ]
  },
  {
   "cell_type": "code",
   "execution_count": null,
   "metadata": {
    "id": "Yu1kbLxojxyU",
    "outputId": "d323e754-178a-46ae-e15e-98275ae220dd"
   },
   "outputs": [
    {
     "name": "stdout",
     "output_type": "stream",
     "text": [
      "[ 0.29347583  0.59303277 -1.          0.38043546  0.63265939  0.32472618\n",
      "  0.11340241  0.68136955  0.89905432  0.74769935]\n"
     ]
    }
   ],
   "source": [
    "'''\n",
    "Your Code\n",
    "'''"
   ]
  },
  {
   "cell_type": "code",
   "execution_count": 14,
   "metadata": {
    "id": "IoPlZnZgjxyV"
   },
   "outputs": [
    {
     "data": {
      "text/plain": [
       "array([0.23280383, 0.03740351, 0.26011334, 0.85064883, 0.51379427,\n",
       "       0.5521867 , 0.371787  , 0.06906418, 0.81238376, 0.1553882 ])"
      ]
     },
     "execution_count": 14,
     "metadata": {},
     "output_type": "execute_result"
    }
   ],
   "source": [
    "a = np.random.random(10)\n",
    "a"
   ]
  },
  {
   "cell_type": "code",
   "execution_count": 15,
   "metadata": {
    "id": "V5bMfGR_jxyV"
   },
   "outputs": [
    {
     "data": {
      "text/plain": [
       "array([23.,  4., 26., 85., 51., 55., 37.,  7., 81., 16.])"
      ]
     },
     "execution_count": 15,
     "metadata": {},
     "output_type": "execute_result"
    }
   ],
   "source": [
    "a = (a*100).round()\n",
    "a"
   ]
  },
  {
   "cell_type": "code",
   "execution_count": 16,
   "metadata": {},
   "outputs": [
    {
     "data": {
      "text/plain": [
       "array([23.,  4., 26., -1., 51., 55., 37.,  7., 81., 16.])"
      ]
     },
     "execution_count": 16,
     "metadata": {},
     "output_type": "execute_result"
    }
   ],
   "source": [
    "a[a.argmax()] = -1\n",
    "a"
   ]
  },
  {
   "cell_type": "code",
   "execution_count": null,
   "metadata": {},
   "outputs": [],
   "source": []
  }
 ],
 "metadata": {
  "colab": {
   "name": "06 Homework_維元.ipynb",
   "provenance": []
  },
  "kernelspec": {
   "display_name": "Python 3",
   "language": "python",
   "name": "python3"
  },
  "language_info": {
   "codemirror_mode": {
    "name": "ipython",
    "version": 3
   },
   "file_extension": ".py",
   "mimetype": "text/x-python",
   "name": "python",
   "nbconvert_exporter": "python",
   "pygments_lexer": "ipython3",
   "version": "3.8.5"
  }
 },
 "nbformat": 4,
 "nbformat_minor": 1
}
